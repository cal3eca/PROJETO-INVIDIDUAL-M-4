{
  "nbformat": 4,
  "nbformat_minor": 0,
  "metadata": {
    "colab": {
      "provenance": [],
      "authorship_tag": "ABX9TyOYpxdMkolaxKBX4lje5AyD",
      "include_colab_link": true
    },
    "kernelspec": {
      "name": "python3",
      "display_name": "Python 3"
    },
    "language_info": {
      "name": "python"
    }
  },
  "cells": [
    {
      "cell_type": "markdown",
      "metadata": {
        "id": "view-in-github",
        "colab_type": "text"
      },
      "source": [
        "<a href=\"https://colab.research.google.com/github/cal3eca/PROJETO-INVIDIDUAL-M-4/blob/main/PROJETO_INVIDIVIDUAL_M%C3%93DULO_4.ipynb\" target=\"_parent\"><img src=\"https://colab.research.google.com/assets/colab-badge.svg\" alt=\"Open In Colab\"/></a>"
      ]
    },
    {
      "cell_type": "code",
      "execution_count": null,
      "metadata": {
        "id": "IMhkqgYmRZjv"
      },
      "outputs": [],
      "source": [
        "import pandas as pd\n",
        "import numpy as np\n",
        "\n",
        "relatorio = {'Dia': ['Segunda','Terça', 'Quarta', 'Quinta', 'Sexta', 'Sábado', 'Domingo'],\n",
        "             'Limpeza': [100, 0, 100, 0, 100, 100, 0],\n",
        "              'Comida': [221.60, 375.31, 412.00, 495.20, 411.53, 245.00, 164.00],\n",
        "             'Transporte': [150, 100, 125, 300, 275, 525, 75], \n",
        "             'Outros': [0, 0, 2310, 500, 0, 0, 820]}\n",
        "\n",
        "df1 = pd.DataFrame(relatorio, index = [1,2,3,4,5,6,7])\n",
        "df1['GANHOS'] = [2200, 2420, 3391, 5322, 4898.50, 4200, 3893]\n",
        "df1"
      ]
    },
    {
      "cell_type": "code",
      "source": [
        "print('A soma total dos ganhos é: ')\n",
        "df1 ['GANHOS'].sum()"
      ],
      "metadata": {
        "id": "vKDiCCjiX5AU"
      },
      "execution_count": null,
      "outputs": []
    },
    {
      "cell_type": "code",
      "source": [
        "df1['Ganhos/impostos'] = df1['GANHOS'] * 0.07 \n",
        "df1"
      ],
      "metadata": {
        "id": "JXRcwAxWcfNH"
      },
      "execution_count": null,
      "outputs": []
    },
    {
      "cell_type": "code",
      "source": [
        "print('A média semanal é: \\n', df1['GANHOS'].mean())"
      ],
      "metadata": {
        "id": "30FnX-nScvfW"
      },
      "execution_count": null,
      "outputs": []
    },
    {
      "cell_type": "code",
      "source": [
        "print('A soma total das despesas de limpeza é: ', df1['Limpeza'].sum()) \n",
        "print('A soma total das despesas de Comida é: ',df1['Comida'].sum())\n",
        "print('A soma total das despesas de Transporte é: ',df1['Transporte'].sum())\n",
        "print('A soma total das despesas de Outros é: ', df1['Outros'].sum())"
      ],
      "metadata": {
        "id": "WK7HQeOwdyaV"
      },
      "execution_count": null,
      "outputs": []
    },
    {
      "cell_type": "code",
      "source": [
        "print('A soma total das despesas de limpeza é: ', round(df1['Limpeza'].mean(), 2))\n",
        "print('A soma total das despesas de Comida é: ', round(df1['Comida'].mean(), 2))\n",
        "print('A soma total das despesas de Transporte é: ', round(df1['Transporte'].mean(), 2))\n",
        "print('A soma total das despesas de Outros é: ', round(df1['Outros'].mean(), 2))"
      ],
      "metadata": {
        "id": "Son-hwN3ehex"
      },
      "execution_count": null,
      "outputs": []
    },
    {
      "cell_type": "code",
      "source": [],
      "metadata": {
        "id": "oS9jRttCgU8A"
      },
      "execution_count": null,
      "outputs": []
    }
  ]
}